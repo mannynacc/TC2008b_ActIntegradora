{
 "cells": [
  {
   "cell_type": "markdown",
   "metadata": {},
   "source": [
    "# Parte 1. Sistemas multiagentes\n",
    "\n",
    "## 1. Representación del entorno\n",
    "\n",
    "El entorno se representa como una retícula rectangular de N x M casillas. En esta retícula hay diferentes categorías que se le asignan a los cuadros:\n",
    "\n",
    "- Calle donde pueden transitar autos.\n",
    "- Auto.\n",
    "- Semáforo."
   ]
  },
  {
   "cell_type": "markdown",
   "metadata": {},
   "source": [
    "## 2. Percepciones del entorno\n",
    "\n",
    "En el modelo los conductores deben tener percepciones del entorno de manera que les permita tomar decisiones.\n",
    "\n",
    "Las situaciones pueden ser las siguientes:\n",
    "- Tienen la calle frente a ellos libre.\n",
    "- Tienen un auto frente a ellos.\n",
    "- Tienen un semáforo frente a ellos (puede estar en color verde, amarillo o rojo)."
   ]
  },
  {
   "cell_type": "markdown",
   "metadata": {},
   "source": [
    "## 3. Definir las acciones de los conductores\n",
    "\n",
    "Para cada situación descrita anteriormente se definen acciones que pueden realizar los conductores.\n",
    "\n",
    "### La calle enfrente está libre\n",
    "El auto continua con su velocidad actual.\n",
    "\n",
    "### Hay un auto enfrente\n",
    "El auto debe mantener una distancia de 3 metros entre sí mismo y el otro auto, por lo que aquí deberá reducir su velocidad de tal manera que no choque con él, o conservar su misma velocidad si está a una distancia adecuada.\n",
    "\n",
    "### Hay un semáforo enfrente\n",
    "Aquí se pueden desprender más situaciones dependiendo del color del semáforo:\n",
    "#### El semáforo está en rojo\n",
    "El auto se debe detener (reducir velocidad a 0).\n",
    "\n",
    "#### El semáforo está en amarillo\n",
    "El auto debe ir reduciendo su velocidad.\n",
    "\n",
    "#### El semáforo está en verde\n",
    "El auto puede continuar moviéndose sin problemas."
   ]
  },
  {
   "cell_type": "markdown",
   "metadata": {},
   "source": [
    "## 4. Simulación con Python"
   ]
  },
  {
   "cell_type": "code",
   "execution_count": null,
   "metadata": {},
   "outputs": [],
   "source": [
    "import agentpy as ap\n",
    "\n",
    "class Car(ap.Agent):\n",
    "    def setup(self):\n",
    "        self.speed = 0\n",
    "        self.max_speed = 0\n",
    "        self.direction = 0.0 # ???\n",
    "        self.position = 0\n",
    "        self.objective = None # derecha, frente, izq"
   ]
  }
 ],
 "metadata": {
  "interpreter": {
   "hash": "a1d504fcf92209c4a075f0b9f3f2f5640bb9fc17c976ac3e154408c14598dd5b"
  },
  "kernelspec": {
   "display_name": "Python 3.9.7 64-bit ('base': conda)",
   "language": "python",
   "name": "python3"
  },
  "language_info": {
   "name": "python",
   "version": "3.9.7"
  },
  "orig_nbformat": 4
 },
 "nbformat": 4,
 "nbformat_minor": 2
}
