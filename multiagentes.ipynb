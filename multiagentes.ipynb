{
 "cells": [
  {
   "cell_type": "markdown",
   "metadata": {},
   "source": [
    "# Parte 1. Sistemas multiagentes\n",
    "\n",
    "## 1. Representación del entorno\n",
    "\n",
    "El entorno se representa como una retícula rectangular de N x M casillas. En esta retícula hay diferentes categorías que se le asignan a los cuadros:\n",
    "\n",
    "- Calle donde pueden transitar autos.\n",
    "- Auto.\n",
    "- Semáforo."
   ]
  },
  {
   "cell_type": "markdown",
   "metadata": {},
   "source": [
    "## 2. Percepciones del entorno\n",
    "\n",
    "En el modelo los conductores deben tener percepciones del entorno de manera que les permita tomar decisiones.\n",
    "\n",
    "Las situaciones pueden ser las siguientes:\n",
    "- Tienen la calle frente a ellos libre.\n",
    "- Tienen un auto frente a ellos.\n",
    "- Tienen un semáforo frente a ellos (puede estar en color verde, amarillo o rojo)."
   ]
  },
  {
   "cell_type": "markdown",
   "metadata": {},
   "source": [
    "## 3. Definir las acciones de los conductores\n",
    "\n",
    "Para cada situación descrita anteriormente se definen acciones que pueden realizar los conductores.\n",
    "\n",
    "### La calle enfrente está libre\n",
    "El auto continua con su velocidad actual.\n",
    "\n",
    "### Hay un auto enfrente\n",
    "El auto debe mantener una distancia de 3 metros entre sí mismo y el otro auto, por lo que aquí deberá reducir su velocidad de tal manera que no choque con él, o conservar su misma velocidad si está a una distancia adecuada.\n",
    "\n",
    "### Hay un semáforo enfrente\n",
    "Aquí se pueden desprender más situaciones dependiendo del color del semáforo:\n",
    "#### El semáforo está en rojo\n",
    "El auto se debe detener (reducir velocidad a 0).\n",
    "\n",
    "#### El semáforo está en amarillo\n",
    "El auto debe ir reduciendo su velocidad.\n",
    "\n",
    "#### El semáforo está en verde\n",
    "El auto puede continuar moviéndose sin problemas."
   ]
  },
  {
   "cell_type": "markdown",
   "metadata": {},
   "source": [
    "## 4. Simulación con Python"
   ]
  },
  {
   "cell_type": "markdown",
   "metadata": {},
   "source": [
    "### Importar librerías"
   ]
  },
  {
   "cell_type": "code",
   "execution_count": 38,
   "metadata": {},
   "outputs": [],
   "source": [
    "import agentpy as ap\n",
    "import numpy as np\n",
    "import matplotlib.pyplot as plt\n",
    "import math\n",
    "import IPython\n",
    "import pandas as pd"
   ]
  },
  {
   "cell_type": "markdown",
   "metadata": {},
   "source": [
    "### Definición del agente semáforo"
   ]
  },
  {
   "cell_type": "code",
   "execution_count": 39,
   "metadata": {},
   "outputs": [],
   "source": [
    "class Semaphore(ap.Agent):\n",
    "    \"\"\" \n",
    "        Esta clase define a un semáforo.\n",
    "    \"\"\"\n",
    "\n",
    "    def setup(self):\n",
    "        \"\"\" Este método se utiliza para inicializar al semáforo. \"\"\"\n",
    "        \n",
    "        self.step_time = 0.1         # Tiempo que dura cada paso de la simulación\n",
    "\n",
    "        self.direction = [0, 1]      # Dirección a la que apunta el semáforo\n",
    "\n",
    "        self.state = 0               # Estado del semáforo 0 = verde, 1 = amarillo, 2 = rojo\n",
    "        self.state_time = 0          # Tiempo que ha durado el semáforo en el estado actual\n",
    "\n",
    "        self.green_duration = 50     # Tiempo que dura el semáforo en verde\n",
    "        self.yellow_duration = 5     # Tiempo que dura el semáforo en amarillo\n",
    "        self.red_duration = 45       # Tiempo que dura el semáforo en rojo        \n",
    "\n",
    "    def update(self):\n",
    "        \"\"\" Este método actualiza el estado del semáforo. \"\"\"\n",
    "        self.state_time += self.step_time\n",
    "\n",
    "        if self.state == 0:\n",
    "            # Caso en el que el semáforo está en verde\n",
    "            if self.state_time >= self.green_duration:\n",
    "                self.state = 1\n",
    "                self.state_time = 0\n",
    "        elif self.state == 1:\n",
    "            # Caso en el que el semáforo está en amarillo\n",
    "            if self.state_time >= self.yellow_duration:\n",
    "                self.state = 2\n",
    "                self.state_time = 0\n",
    "        elif self.state == 2:\n",
    "            # Caso en el que el semáforo está en rojo\n",
    "            if self.state_time >= self.red_duration:\n",
    "                self.state = 0\n",
    "                self.state_time = 0\n",
    "\n",
    "    def set_green(self):\n",
    "        \"\"\" Este método forza el semáforo a estar en verde. \"\"\"        \n",
    "        self.state = 0\n",
    "        self.state_time = 0\n",
    "\n",
    "    def set_yellow(self):\n",
    "        \"\"\" Este método forza el semáforo a estar en amarillo. \"\"\"        \n",
    "        self.state = 1\n",
    "        self.state_time = 0\n",
    "\n",
    "    def set_red(self):\n",
    "        \"\"\" Este método forza el semáforo a estar en rojo. \"\"\"        \n",
    "        self.state = 2\n",
    "        self.state_time = 0\n"
   ]
  },
  {
   "cell_type": "markdown",
   "metadata": {},
   "source": [
    "### Definición del agente auto"
   ]
  },
  {
   "cell_type": "code",
   "execution_count": 40,
   "metadata": {},
   "outputs": [],
   "source": [
    "class Car(ap.Agent):\n",
    "    \"\"\" \n",
    "        Esta clase define a un auto.\n",
    "    \"\"\"\n",
    "\n",
    "    def setup(self):\n",
    "        \"\"\" Este método se utiliza para inicializar un robot limpiador. \"\"\"\n",
    "        self.step_time = 0.1         # Tiempo que dura cada paso de la simulación\n",
    "\n",
    "        self.direction = [1, 0]      # Dirección a la que viaja el auto\n",
    "        self.speed = 0.0             # Velocidad en metros por segundo\n",
    "        self.max_speed = 40          # Máxima velocidad en metros por segundo\n",
    "        self.state = 1               # Car state: 1 = ok, 0 = dead\n",
    "\n",
    "    def update_position(self):\n",
    "        \"\"\" Este método se utiliza para inicializar la posición del auto. \"\"\"\n",
    "\n",
    "        # Verifica si el auto no ha chocado\n",
    "        if self.state == 0:\n",
    "            return\n",
    "\n",
    "         # Actualiza la posición según la velocidad actual\n",
    "        self.model.avenue.move_by(self, [self.speed*self.direction[0], self.speed*self.direction[1]])\n",
    "\n",
    "    def update_speed(self):\n",
    "        \n",
    "        \"\"\" Este método se utiliza para inicializar la velocidad del auto. \"\"\"\n",
    "\n",
    "        # Verifica si el auto no ha chocado\n",
    "        if self.state == 0:\n",
    "            return\n",
    "        \n",
    "        # Obten la distancia más pequeña a uno de los autos que vaya en la misma dirección        \n",
    "        p = self.model.avenue.positions[self]\n",
    "\n",
    "        min_car_distance = 1000000\n",
    "        for car in self.model.cars:\n",
    "            if car != self:\n",
    "                # Verifica si el carro va en la misma dirección\n",
    "                dot_p1 = self.direction[0]*car.direction[0] + self.direction[1]*car.direction[1]                \n",
    "                \n",
    "                # Verifica si el carro está atrás o adelante\n",
    "                p2 = self.model.avenue.positions[car]\n",
    "                dot_p2 = (p2[0]-p[0])*self.direction[0] + (p2[1]-p[1])*self.direction[1]\n",
    "\n",
    "                if dot_p1 > 0 and dot_p2 > 0:                     \n",
    "                    d = math.sqrt((p[0]-p2[0])**2 + (p[1]-p2[1])**2)                    \n",
    "                    \n",
    "                    if min_car_distance > d:\n",
    "                        min_car_distance = d\n",
    "       \n",
    "        # Obten la distancia al próximo semáforo\n",
    "        min_semaphore_distance = 1000000\n",
    "        semaphore_state = 0\n",
    "        for semaphore in self.model.semaphores:\n",
    "\n",
    "            # Verifica si el semáforo apunta hacia el vehículo\n",
    "            dot_p1 = semaphore.direction[0]*self.direction[0] + semaphore.direction[1]*self.direction[1]\n",
    "            \n",
    "            # Verifica si el semáforo está adelante o atrás del vehículo\n",
    "            p2 = self.model.avenue.positions[semaphore]\n",
    "            dot_p2 = (p2[0]-p[0])*self.direction[0] + (p2[1]-p[1])*self.direction[1]\n",
    "\n",
    "            if dot_p1 < 0 and dot_p2 > 0:                            \n",
    "                d = math.sqrt((p[0]-p2[0])**2 + (p[1]-p2[1])**2)  \n",
    "                \n",
    "                if min_semaphore_distance > d:\n",
    "                    min_semaphore_distance = d\n",
    "                    semaphore_state = semaphore.state\n",
    "        \n",
    "        # Actualiza la velocidad del auto\n",
    "        if min_car_distance < 2:\n",
    "            self.speed = 0\n",
    "            self.state = 1\n",
    "\n",
    "        elif min_car_distance < 20:\n",
    "              self.speed = np.maximum(self.speed - 200*self.step_time, 0)\n",
    "\n",
    "        elif min_car_distance < 50:\n",
    "              self.speed = np.maximum(self.speed - 80*self.step_time, 0)\n",
    "                \n",
    "        elif min_semaphore_distance < 40 and semaphore_state == 1:\n",
    "            self.speed = np.minimum(self.speed + 5*self.step_time, self.max_speed)\n",
    "\n",
    "        elif min_semaphore_distance < 50 and semaphore_state == 1:\n",
    "            self.speed = np.maximum(self.speed - 20*self.step_time, 0)\n",
    "            \n",
    "        elif min_semaphore_distance < 100 and semaphore_state == 2:\n",
    "            self.speed = np.maximum(self.speed - 80*self.step_time, 0)\n",
    "\n",
    "        else:\n",
    "            self.speed = np.minimum(self.speed + 5*self.step_time, self.max_speed)"
   ]
  },
  {
   "cell_type": "markdown",
   "metadata": {},
   "source": [
    "### Definición del modelo de la avenida"
   ]
  },
  {
   "cell_type": "code",
   "execution_count": 41,
   "metadata": {},
   "outputs": [],
   "source": [
    "class AvenueModel(ap.Model):\n",
    "    \"\"\" Esta clase define un modelo para una avenida simple con semáforo peatonal. \"\"\"\n",
    "\n",
    "    def setup(self):\n",
    "        \"\"\" Este método se utiliza para inicializar la avenida con varios autos y semáforos. \"\"\"\n",
    "        \n",
    "        # Inicializa los agentes los autos y los semáforos        \n",
    "        self.cars = ap.AgentList(self, self.p.cars, Car)\n",
    "        self.cars.step_time =  self.p.step_time\n",
    "\n",
    "        self.cars_red = 0\n",
    "        self.avg_speed = []\n",
    "        \n",
    "        c_north = int(self.p.cars/2)\n",
    "        c_south = self.p.cars - c_north\n",
    "\n",
    "        for k in range(c_north):\n",
    "            self.cars[k].direction = [0,1]\n",
    "\n",
    "        for k in range(c_south):\n",
    "            self.cars[k+c_north].direction = [0,-1]\n",
    "\n",
    "        self.semaphores = ap.AgentList(self,2, Semaphore)\n",
    "        self.semaphores.step_time =  self.p.step_time\n",
    "        self.semaphores.green_duration = self.p.green\n",
    "        self.semaphores.yellow_duration = self.p.yellow\n",
    "        self.semaphores.red_duration = self.p.red\n",
    "        self.semaphores[0].direction = [0, 1]\n",
    "        self.semaphores[1].direction = [0, -1]\n",
    "\n",
    "        # Inicializa el entorno\n",
    "        self.avenue = ap.Space(self, shape=[60, self.p.size], torus = True)\n",
    "                \n",
    "        # Agrega los semáforos al entorno\n",
    "        self.avenue.add_agents(self.semaphores, random=True)\n",
    "        self.avenue.move_to(self.semaphores[0], [10, self.p.size*0.5 + 5])\n",
    "        self.avenue.move_to(self.semaphores[1], [50, self.p.size*0.5 - 5])\n",
    "\n",
    "        # Agrega los autos al entorno\n",
    "        self.avenue.add_agents(self.cars, random=True)\n",
    "        for k in range(c_north):\n",
    "            self.avenue.move_to(self.cars[k], [40, 10*(k+1)])\n",
    "        \n",
    "        for k in range(c_south):\n",
    "            self.avenue.move_to(self.cars[k+c_north], [20, self.p.size - (k+1)*10])\n",
    "\n",
    "    def step(self):\n",
    "        \"\"\" Este método se invoca para actualizar el estado de la avenida. \"\"\"        \n",
    "        self.semaphores.update()\n",
    "\n",
    "        self.cars.update_position()\n",
    "        self.cars.update_speed()\n",
    "\n",
    "        if (self.t * self.p.step_time) >= 100:\n",
    "            self.stop()\n",
    "\n",
    "    def update(self):\n",
    "        avg_speed = []\n",
    "        n_cars = 0\n",
    "        for car in self.cars:\n",
    "            # dot_prod1 = np.dot(car.direction, self.semaphores[0].direction)\n",
    "            # dot_prod2 = np.dot(car.direction, self.semaphores[1].direction)\n",
    "            dist1 = np.linalg.norm(self.avenue.positions[self.semaphores[0]] - self.avenue.positions[car])\n",
    "            dist2 = np.linalg.norm(self.avenue.positions[self.semaphores[1]] - self.avenue.positions[car])\n",
    "            # print(\"Distance to sempahore 1: \", dist1)\n",
    "            # print(\"Distance to sempahore 2: \", dist2)\n",
    "\n",
    "            if dist1 <= 200 or dist2 <= 200:\n",
    "                avg_speed.append(car.speed)\n",
    "                if self.semaphores[0].state == 2 and self.semaphores[1].state == 2:\n",
    "                    n_cars += 1\n",
    "        \n",
    "        avg_speed = np.average(avg_speed)\n",
    "\n",
    "        if np.isnan(avg_speed):\n",
    "            avg_speed = 0\n",
    "\n",
    "        self.record('Avg Speed', avg_speed)\n",
    "        self.record('Cars_red_light', n_cars)\n",
    "        self.cars_red = n_cars\n",
    "        self.avg_speed.append(avg_speed)\n",
    "\n",
    "    def end(self):\n",
    "        avg_speed = np.average(self.cars.speed)\n",
    "        self.report('Avg Speed', self.avg_speed)\n",
    "        self.report('Cars in red light', self.cars_red)\n",
    "        self.report('Time', self.t * 2)"
   ]
  },
  {
   "cell_type": "markdown",
   "metadata": {},
   "source": [
    "### Funciones para visualización del modelo"
   ]
  },
  {
   "cell_type": "code",
   "execution_count": 42,
   "metadata": {},
   "outputs": [],
   "source": [
    "def animation_plot_single(m, ax):    \n",
    "    ax.set_title(f\"Avenida t={m.t*m.p.step_time:.2f}\")\n",
    "    \n",
    "    colors = [\"green\", \"yellow\", \"red\"]\n",
    "    \n",
    "    pos_s1 = m.avenue.positions[m.semaphores[0]]    \n",
    "    ax.scatter(*pos_s1, s=20, c=colors[m.semaphores[0].state])\n",
    "    \n",
    "    pos_s2 = m.avenue.positions[m.semaphores[1]]    \n",
    "    ax.scatter(*pos_s2, s=20, c=colors[m.semaphores[1].state])\n",
    "    \n",
    "    ax.set_xlim(0, m.avenue.shape[0])\n",
    "    ax.set_ylim(0, m.avenue.shape[1])    \n",
    "    \n",
    "    for car in m.cars:\n",
    "        pos_c = m.avenue.positions[car]    \n",
    "        ax.scatter(*pos_c, s=20, c=\"black\")\n",
    "    \n",
    "    ax.set_axis_off()\n",
    "    ax.set_aspect('equal', 'box')\n",
    "        \n",
    "def animation_plot(m, p):    \n",
    "    fig = plt.figure(figsize=(10, 10))\n",
    "    ax = fig.add_subplot(111)\n",
    "    animation = ap.animate(m(p), fig, ax, animation_plot_single)\n",
    "    return IPython.display.HTML(animation.to_jshtml(fps=20)) "
   ]
  },
  {
   "cell_type": "markdown",
   "metadata": {},
   "source": [
    "### Parámetros de simulación"
   ]
  },
  {
   "cell_type": "code",
   "execution_count": 43,
   "metadata": {},
   "outputs": [],
   "source": [
    "parameters = {\n",
    "    'step_time': 0.1,    # Tiempo por cada frame de simulación\n",
    "    'size': 1000,        # Tamaño en metros de la avenida\n",
    "    'green': 10,          # Duración de la luz verde\n",
    "    'yellow': 5,         # Duración de la luz amarilla\n",
    "    'red': 10,           # Duración de la luz roja\n",
    "    'cars': 20,          # Número de autos en la simulación\n",
    "    'steps': 1000,       # Número de pasos de la simulación\n",
    "}"
   ]
  },
  {
   "cell_type": "markdown",
   "metadata": {},
   "source": [
    "## Simulación de corrida"
   ]
  },
  {
   "cell_type": "code",
   "execution_count": 44,
   "metadata": {},
   "outputs": [
    {
     "name": "stderr",
     "output_type": "stream",
     "text": [
      "D:\\Anaconda\\lib\\site-packages\\numpy\\lib\\function_base.py:380: RuntimeWarning: Mean of empty slice.\n",
      "  avg = a.mean(axis)\n",
      "D:\\Anaconda\\lib\\site-packages\\numpy\\core\\_methods.py:189: RuntimeWarning: invalid value encountered in double_scalars\n",
      "  ret = ret.dtype.type(ret / rcount)\n"
     ]
    },
    {
     "name": "stdout",
     "output_type": "stream",
     "text": [
      "Completed: 1000 steps\n",
      "Run time: 0:00:01.770033\n",
      "Simulation finished\n"
     ]
    },
    {
     "data": {
      "text/html": [
       "<div>\n",
       "<style scoped>\n",
       "    .dataframe tbody tr th:only-of-type {\n",
       "        vertical-align: middle;\n",
       "    }\n",
       "\n",
       "    .dataframe tbody tr th {\n",
       "        vertical-align: top;\n",
       "    }\n",
       "\n",
       "    .dataframe thead th {\n",
       "        text-align: right;\n",
       "    }\n",
       "</style>\n",
       "<table border=\"1\" class=\"dataframe\">\n",
       "  <thead>\n",
       "    <tr style=\"text-align: right;\">\n",
       "      <th></th>\n",
       "      <th>t</th>\n",
       "      <th>Avg Speed</th>\n",
       "      <th>Cars_red_light</th>\n",
       "    </tr>\n",
       "  </thead>\n",
       "  <tbody>\n",
       "    <tr>\n",
       "      <th>0</th>\n",
       "      <td>0</td>\n",
       "      <td>0.0</td>\n",
       "      <td>0</td>\n",
       "    </tr>\n",
       "    <tr>\n",
       "      <th>1</th>\n",
       "      <td>1</td>\n",
       "      <td>0.0</td>\n",
       "      <td>0</td>\n",
       "    </tr>\n",
       "    <tr>\n",
       "      <th>2</th>\n",
       "      <td>2</td>\n",
       "      <td>0.0</td>\n",
       "      <td>0</td>\n",
       "    </tr>\n",
       "    <tr>\n",
       "      <th>3</th>\n",
       "      <td>3</td>\n",
       "      <td>0.0</td>\n",
       "      <td>0</td>\n",
       "    </tr>\n",
       "    <tr>\n",
       "      <th>4</th>\n",
       "      <td>4</td>\n",
       "      <td>0.0</td>\n",
       "      <td>0</td>\n",
       "    </tr>\n",
       "    <tr>\n",
       "      <th>...</th>\n",
       "      <td>...</td>\n",
       "      <td>...</td>\n",
       "      <td>...</td>\n",
       "    </tr>\n",
       "    <tr>\n",
       "      <th>996</th>\n",
       "      <td>996</td>\n",
       "      <td>0.0</td>\n",
       "      <td>10</td>\n",
       "    </tr>\n",
       "    <tr>\n",
       "      <th>997</th>\n",
       "      <td>997</td>\n",
       "      <td>0.0</td>\n",
       "      <td>10</td>\n",
       "    </tr>\n",
       "    <tr>\n",
       "      <th>998</th>\n",
       "      <td>998</td>\n",
       "      <td>0.0</td>\n",
       "      <td>10</td>\n",
       "    </tr>\n",
       "    <tr>\n",
       "      <th>999</th>\n",
       "      <td>999</td>\n",
       "      <td>0.0</td>\n",
       "      <td>10</td>\n",
       "    </tr>\n",
       "    <tr>\n",
       "      <th>1000</th>\n",
       "      <td>1000</td>\n",
       "      <td>0.0</td>\n",
       "      <td>10</td>\n",
       "    </tr>\n",
       "  </tbody>\n",
       "</table>\n",
       "<p>1001 rows × 3 columns</p>\n",
       "</div>"
      ],
      "text/plain": [
       "         t  Avg Speed  Cars_red_light\n",
       "0        0        0.0               0\n",
       "1        1        0.0               0\n",
       "2        2        0.0               0\n",
       "3        3        0.0               0\n",
       "4        4        0.0               0\n",
       "...    ...        ...             ...\n",
       "996    996        0.0              10\n",
       "997    997        0.0              10\n",
       "998    998        0.0              10\n",
       "999    999        0.0              10\n",
       "1000  1000        0.0              10\n",
       "\n",
       "[1001 rows x 3 columns]"
      ]
     },
     "execution_count": 44,
     "metadata": {},
     "output_type": "execute_result"
    }
   ],
   "source": [
    "model = AvenueModel(parameters)\n",
    "results = model.run()\n",
    "results.arrange_variables()"
   ]
  },
  {
   "cell_type": "markdown",
   "metadata": {},
   "source": [
    "## Visualización"
   ]
  },
  {
   "cell_type": "code",
   "execution_count": 45,
   "metadata": {},
   "outputs": [],
   "source": [
    "# animation_plot(AvenueModel, parameters)"
   ]
  },
  {
   "cell_type": "markdown",
   "metadata": {},
   "source": [
    "## Graficación de datos"
   ]
  },
  {
   "cell_type": "code",
   "execution_count": 46,
   "metadata": {},
   "outputs": [],
   "source": [
    "data = {\"avg_speed\": [], \"cars_red\": [], \"time\": []}\n",
    "data[\"avg_speed\"].append(results.reporters['Avg Speed'])\n",
    "data[\"time\"].append(results.reporters['Time'])"
   ]
  },
  {
   "cell_type": "markdown",
   "metadata": {},
   "source": [
    "Velocidad promedio"
   ]
  },
  {
   "cell_type": "code",
   "execution_count": 47,
   "metadata": {},
   "outputs": [
    {
     "data": {
      "image/png": "[encoded data removed]",
      "text/plain": [
       "<Figure size 432x288 with 1 Axes>"
      ]
     },
     "metadata": {
      "needs_background": "light"
     },
     "output_type": "display_data"
    }
   ],
   "source": [
    "time = np.arange(0, data['time'][0][0], 2)\n",
    "\n",
    "x = np.append(time, [2002])\n",
    "y = data['avg_speed'][0][0]\n",
    "fig, ax = plt.subplots()\n",
    "ax.plot(x, y)\n",
    "\n",
    "plt.xlabel('Tiempo')\n",
    "plt.ylabel('Velocidad')\n",
    "plt.title('Velocidad promedio en semáforo')\n",
    "plt.show()"
   ]
  },
  {
   "cell_type": "markdown",
   "metadata": {},
   "source": [
    "Número de autos en semáforo rojo"
   ]
  },
  {
   "cell_type": "code",
   "execution_count": 48,
   "metadata": {},
   "outputs": [],
   "source": [
    "parameters = [\n",
    "    {\n",
    "    'step_time': 0.1,    # Tiempo por cada frame de simulación\n",
    "    'size': 1000,        # Tamaño en metros de la avenida\n",
    "    'green': 10,          # Duración de la luz verde\n",
    "    'yellow': 5,         # Duración de la luz amarilla\n",
    "    'red': 10,           # Duración de la luz roja\n",
    "    'cars': 20,          # Número de autos en la simulación\n",
    "    'steps': 1000,       # Número de pasos de la simulación\n",
    "    },\n",
    "    {\n",
    "    'step_time': 0.1,    # Tiempo por cada frame de simulación\n",
    "    'size': 1000,        # Tamaño en metros de la avenida\n",
    "    'green': 10,          # Duración de la luz verde\n",
    "    'yellow': 5,         # Duración de la luz amarilla\n",
    "    'red': 10,           # Duración de la luz roja\n",
    "    'cars': 10,          # Número de autos en la simulación\n",
    "    'steps': 1000,       # Número de pasos de la simulación\n",
    "    },\n",
    "    {\n",
    "    'step_time': 0.1,    # Tiempo por cada frame de simulación\n",
    "    'size': 1000,        # Tamaño en metros de la avenida\n",
    "    'green': 10,          # Duración de la luz verde\n",
    "    'yellow': 5,         # Duración de la luz amarilla\n",
    "    'red': 10,           # Duración de la luz roja\n",
    "    'cars': 30,          # Número de autos en la simulación\n",
    "    'steps': 1000,       # Número de pasos de la simulación\n",
    "    },\n",
    "]"
   ]
  },
  {
   "cell_type": "code",
   "execution_count": 49,
   "metadata": {},
   "outputs": [
    {
     "name": "stderr",
     "output_type": "stream",
     "text": [
      "D:\\Anaconda\\lib\\site-packages\\numpy\\lib\\function_base.py:380: RuntimeWarning: Mean of empty slice.\n",
      "  avg = a.mean(axis)\n",
      "D:\\Anaconda\\lib\\site-packages\\numpy\\core\\_methods.py:189: RuntimeWarning: invalid value encountered in double_scalars\n",
      "  ret = ret.dtype.type(ret / rcount)\n"
     ]
    },
    {
     "name": "stdout",
     "output_type": "stream",
     "text": [
      "Completed: 1000 steps\n",
      "Run time: 0:00:01.705035\n",
      "Simulation finished\n",
      "Completed: 1000 steps\n",
      "Run time: 0:00:00.749962\n",
      "Simulation finished\n",
      "Completed: 1000 steps\n",
      "Run time: 0:00:03.461998\n",
      "Simulation finished\n"
     ]
    }
   ],
   "source": [
    "for p in parameters:\n",
    "    model = AvenueModel(p)\n",
    "    results = model.run()\n",
    "    data[\"cars_red\"].append(results.reporters['Cars in red light'])"
   ]
  },
  {
   "cell_type": "code",
   "execution_count": 50,
   "metadata": {},
   "outputs": [
    {
     "name": "stdout",
     "output_type": "stream",
     "text": [
      "[0    10\n",
      "Name: Cars in red light, dtype: int64, 0    10\n",
      "Name: Cars in red light, dtype: int64, 0    10\n",
      "Name: Cars in red light, dtype: int64]\n"
     ]
    },
    {
     "data": {
      "image/png": "[encoded data removed]",
      "text/plain": [
       "<Figure size 432x288 with 1 Axes>"
      ]
     },
     "metadata": {
      "needs_background": "light"
     },
     "output_type": "display_data"
    }
   ],
   "source": [
    "x = list(range(30))\n",
    "y = data[\"cars_red\"]\n",
    "\n",
    "print(data[\"cars_red\"])\n",
    "\n",
    "fig, ax = plt.subplots()\n",
    "ax.hist(y) \n",
    "\n",
    "ax.set_xlabel('No. de carros')\n",
    "ax.set_ylabel('#')\n",
    "\n",
    "plt.show()"
   ]
  },
  {
   "cell_type": "markdown",
   "metadata": {},
   "source": [
    "## 5. ¿Qué pasaría en la simulación si el tiempo en que aparece la luz amarilla se reduce a 0?"
   ]
  },
  {
   "cell_type": "markdown",
   "metadata": {},
   "source": [
    "nose xd"
   ]
  }
 ],
 "metadata": {
  "interpreter": {
   "hash": "a1d504fcf92209c4a075f0b9f3f2f5640bb9fc17c976ac3e154408c14598dd5b"
  },
  "kernelspec": {
   "display_name": "Python 3.9.7 64-bit ('base': conda)",
   "language": "python",
   "name": "python3"
  },
  "language_info": {
   "codemirror_mode": {
    "name": "ipython",
    "version": 3
   },
   "file_extension": ".py",
   "mimetype": "text/x-python",
   "name": "python",
   "nbconvert_exporter": "python",
   "pygments_lexer": "ipython3",
   "version": "3.8.12"
  },
  "orig_nbformat": 4
 },
 "nbformat": 4,
 "nbformat_minor": 2
}
